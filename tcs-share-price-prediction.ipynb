{
 "cells": [
  {
   "cell_type": "code",
   "execution_count": 1,
   "id": "42f703c8",
   "metadata": {
    "execution": {
     "iopub.execute_input": "2023-04-01T14:19:17.160206Z",
     "iopub.status.busy": "2023-04-01T14:19:17.159697Z",
     "iopub.status.idle": "2023-04-01T14:19:17.170440Z",
     "shell.execute_reply": "2023-04-01T14:19:17.169499Z"
    },
    "id": "0Ba5bMS622cq",
    "papermill": {
     "duration": 0.026271,
     "end_time": "2023-04-01T14:19:17.172923",
     "exception": false,
     "start_time": "2023-04-01T14:19:17.146652",
     "status": "completed"
    },
    "tags": []
   },
   "outputs": [],
   "source": [
    "# importing packages\n",
    "import pandas as pd\n",
    "import numpy as np\n",
    "import matplotlib.pyplot as plt"
   ]
  },
  {
   "cell_type": "code",
   "execution_count": 2,
   "id": "e42ea56d",
   "metadata": {
    "execution": {
     "iopub.execute_input": "2023-04-01T14:19:17.193765Z",
     "iopub.status.busy": "2023-04-01T14:19:17.192802Z",
     "iopub.status.idle": "2023-04-01T14:19:17.459005Z",
     "shell.execute_reply": "2023-04-01T14:19:17.457859Z"
    },
    "id": "Jx5sDI_q3FGj",
    "papermill": {
     "duration": 0.27975,
     "end_time": "2023-04-01T14:19:17.462231",
     "exception": false,
     "start_time": "2023-04-01T14:19:17.182481",
     "status": "completed"
    },
    "tags": []
   },
   "outputs": [
    {
     "data": {
      "text/html": [
       "<div>\n",
       "<style scoped>\n",
       "    .dataframe tbody tr th:only-of-type {\n",
       "        vertical-align: middle;\n",
       "    }\n",
       "\n",
       "    .dataframe tbody tr th {\n",
       "        vertical-align: top;\n",
       "    }\n",
       "\n",
       "    .dataframe thead th {\n",
       "        text-align: right;\n",
       "    }\n",
       "</style>\n",
       "<table border=\"1\" class=\"dataframe\">\n",
       "  <thead>\n",
       "    <tr style=\"text-align: right;\">\n",
       "      <th></th>\n",
       "      <th>Date</th>\n",
       "      <th>Open</th>\n",
       "      <th>High</th>\n",
       "      <th>Low</th>\n",
       "      <th>Close</th>\n",
       "      <th>Adj Close</th>\n",
       "      <th>Volume</th>\n",
       "    </tr>\n",
       "  </thead>\n",
       "  <tbody>\n",
       "    <tr>\n",
       "      <th>0</th>\n",
       "      <td>2004-08-27</td>\n",
       "      <td>122.800003</td>\n",
       "      <td>122.800003</td>\n",
       "      <td>119.820000</td>\n",
       "      <td>120.332497</td>\n",
       "      <td>88.088272</td>\n",
       "      <td>30646000.0</td>\n",
       "    </tr>\n",
       "    <tr>\n",
       "      <th>1</th>\n",
       "      <td>2004-08-30</td>\n",
       "      <td>121.237503</td>\n",
       "      <td>123.750000</td>\n",
       "      <td>120.625000</td>\n",
       "      <td>123.345001</td>\n",
       "      <td>90.293549</td>\n",
       "      <td>24465208.0</td>\n",
       "    </tr>\n",
       "    <tr>\n",
       "      <th>2</th>\n",
       "      <td>2004-08-31</td>\n",
       "      <td>123.312500</td>\n",
       "      <td>123.750000</td>\n",
       "      <td>122.000000</td>\n",
       "      <td>123.512497</td>\n",
       "      <td>90.416122</td>\n",
       "      <td>21194656.0</td>\n",
       "    </tr>\n",
       "    <tr>\n",
       "      <th>3</th>\n",
       "      <td>2004-09-01</td>\n",
       "      <td>123.750000</td>\n",
       "      <td>124.375000</td>\n",
       "      <td>122.949997</td>\n",
       "      <td>123.487503</td>\n",
       "      <td>90.397820</td>\n",
       "      <td>19935544.0</td>\n",
       "    </tr>\n",
       "    <tr>\n",
       "      <th>4</th>\n",
       "      <td>2004-09-02</td>\n",
       "      <td>123.737503</td>\n",
       "      <td>125.574997</td>\n",
       "      <td>123.250000</td>\n",
       "      <td>124.207497</td>\n",
       "      <td>90.924896</td>\n",
       "      <td>21356352.0</td>\n",
       "    </tr>\n",
       "    <tr>\n",
       "      <th>...</th>\n",
       "      <td>...</td>\n",
       "      <td>...</td>\n",
       "      <td>...</td>\n",
       "      <td>...</td>\n",
       "      <td>...</td>\n",
       "      <td>...</td>\n",
       "      <td>...</td>\n",
       "    </tr>\n",
       "    <tr>\n",
       "      <th>4489</th>\n",
       "      <td>2022-10-18</td>\n",
       "      <td>3150.000000</td>\n",
       "      <td>3155.350098</td>\n",
       "      <td>3128.550049</td>\n",
       "      <td>3144.699951</td>\n",
       "      <td>3144.699951</td>\n",
       "      <td>1793722.0</td>\n",
       "    </tr>\n",
       "    <tr>\n",
       "      <th>4490</th>\n",
       "      <td>2022-10-19</td>\n",
       "      <td>3159.000000</td>\n",
       "      <td>3159.000000</td>\n",
       "      <td>3112.000000</td>\n",
       "      <td>3121.850098</td>\n",
       "      <td>3121.850098</td>\n",
       "      <td>1194289.0</td>\n",
       "    </tr>\n",
       "    <tr>\n",
       "      <th>4491</th>\n",
       "      <td>2022-10-20</td>\n",
       "      <td>3105.000000</td>\n",
       "      <td>3160.000000</td>\n",
       "      <td>3105.000000</td>\n",
       "      <td>3157.300049</td>\n",
       "      <td>3157.300049</td>\n",
       "      <td>1587601.0</td>\n",
       "    </tr>\n",
       "    <tr>\n",
       "      <th>4492</th>\n",
       "      <td>2022-10-21</td>\n",
       "      <td>3157.800049</td>\n",
       "      <td>3160.399902</td>\n",
       "      <td>3127.000000</td>\n",
       "      <td>3137.399902</td>\n",
       "      <td>3137.399902</td>\n",
       "      <td>1021913.0</td>\n",
       "    </tr>\n",
       "    <tr>\n",
       "      <th>4493</th>\n",
       "      <td>2022-10-24</td>\n",
       "      <td>3170.100098</td>\n",
       "      <td>3178.000000</td>\n",
       "      <td>3155.000000</td>\n",
       "      <td>3161.699951</td>\n",
       "      <td>3161.699951</td>\n",
       "      <td>260949.0</td>\n",
       "    </tr>\n",
       "  </tbody>\n",
       "</table>\n",
       "<p>4494 rows × 7 columns</p>\n",
       "</div>"
      ],
      "text/plain": [
       "            Date         Open         High          Low        Close  \\\n",
       "0     2004-08-27   122.800003   122.800003   119.820000   120.332497   \n",
       "1     2004-08-30   121.237503   123.750000   120.625000   123.345001   \n",
       "2     2004-08-31   123.312500   123.750000   122.000000   123.512497   \n",
       "3     2004-09-01   123.750000   124.375000   122.949997   123.487503   \n",
       "4     2004-09-02   123.737503   125.574997   123.250000   124.207497   \n",
       "...          ...          ...          ...          ...          ...   \n",
       "4489  2022-10-18  3150.000000  3155.350098  3128.550049  3144.699951   \n",
       "4490  2022-10-19  3159.000000  3159.000000  3112.000000  3121.850098   \n",
       "4491  2022-10-20  3105.000000  3160.000000  3105.000000  3157.300049   \n",
       "4492  2022-10-21  3157.800049  3160.399902  3127.000000  3137.399902   \n",
       "4493  2022-10-24  3170.100098  3178.000000  3155.000000  3161.699951   \n",
       "\n",
       "        Adj Close      Volume  \n",
       "0       88.088272  30646000.0  \n",
       "1       90.293549  24465208.0  \n",
       "2       90.416122  21194656.0  \n",
       "3       90.397820  19935544.0  \n",
       "4       90.924896  21356352.0  \n",
       "...           ...         ...  \n",
       "4489  3144.699951   1793722.0  \n",
       "4490  3121.850098   1194289.0  \n",
       "4491  3157.300049   1587601.0  \n",
       "4492  3137.399902   1021913.0  \n",
       "4493  3161.699951    260949.0  \n",
       "\n",
       "[4494 rows x 7 columns]"
      ]
     },
     "execution_count": 2,
     "metadata": {},
     "output_type": "execute_result"
    }
   ],
   "source": [
    "#importing the dataset\n",
    "df = pd.read_csv('https://raw.githubusercontent.com/SaiTamminana89/csv/main/TCS1.CSV')\n",
    "df"
   ]
  },
  {
   "cell_type": "code",
   "execution_count": 3,
   "id": "72634d12",
   "metadata": {
    "execution": {
     "iopub.execute_input": "2023-04-01T14:19:17.482852Z",
     "iopub.status.busy": "2023-04-01T14:19:17.482385Z",
     "iopub.status.idle": "2023-04-01T14:19:17.487626Z",
     "shell.execute_reply": "2023-04-01T14:19:17.486440Z"
    },
    "id": "0rYM-sda53h-",
    "papermill": {
     "duration": 0.018273,
     "end_time": "2023-04-01T14:19:17.489873",
     "exception": false,
     "start_time": "2023-04-01T14:19:17.471600",
     "status": "completed"
    },
    "tags": []
   },
   "outputs": [],
   "source": [
    "#This dataframe contains 7 columns\n",
    "#Date-- Date includes day and month and year\n",
    "#open -- open value of the TCS stock price on particular day\n",
    "#High -- high price value of TCS on particular day\n",
    "#LOW -- Low Price Value Of ITC on particular day\n",
    "#Close --Stock Price of TCS After Closing The Stock Market\n",
    "#Volume -- Volume of TCS means sum of buy's and shares\n",
    "#Adjclose --Adjusted close is the closing price after adjustments for all applicable splits and dividend distributions"
   ]
  },
  {
   "cell_type": "markdown",
   "id": "b46c1173",
   "metadata": {
    "id": "cUjRFfFV6Ufn",
    "papermill": {
     "duration": 0.008841,
     "end_time": "2023-04-01T14:19:17.508031",
     "exception": false,
     "start_time": "2023-04-01T14:19:17.499190",
     "status": "completed"
    },
    "tags": []
   },
   "source": [
    "Data Preprocessing"
   ]
  },
  {
   "cell_type": "code",
   "execution_count": 4,
   "id": "ef7a10c2",
   "metadata": {
    "execution": {
     "iopub.execute_input": "2023-04-01T14:19:17.530162Z",
     "iopub.status.busy": "2023-04-01T14:19:17.529716Z",
     "iopub.status.idle": "2023-04-01T14:19:17.539784Z",
     "shell.execute_reply": "2023-04-01T14:19:17.538580Z"
    },
    "id": "ID030v4J6Rm6",
    "papermill": {
     "duration": 0.022995,
     "end_time": "2023-04-01T14:19:17.542036",
     "exception": false,
     "start_time": "2023-04-01T14:19:17.519041",
     "status": "completed"
    },
    "tags": []
   },
   "outputs": [
    {
     "data": {
      "text/plain": [
       "Date         0\n",
       "Open         8\n",
       "High         8\n",
       "Low          8\n",
       "Close        8\n",
       "Adj Close    8\n",
       "Volume       8\n",
       "dtype: int64"
      ]
     },
     "execution_count": 4,
     "metadata": {},
     "output_type": "execute_result"
    }
   ],
   "source": [
    "df.isnull().sum()\n",
    "# checking whether it contains any null values"
   ]
  },
  {
   "cell_type": "code",
   "execution_count": 5,
   "id": "8afa11ed",
   "metadata": {
    "execution": {
     "iopub.execute_input": "2023-04-01T14:19:17.563213Z",
     "iopub.status.busy": "2023-04-01T14:19:17.562778Z",
     "iopub.status.idle": "2023-04-01T14:19:17.572084Z",
     "shell.execute_reply": "2023-04-01T14:19:17.571219Z"
    },
    "id": "OXldqR-e6jJd",
    "papermill": {
     "duration": 0.022484,
     "end_time": "2023-04-01T14:19:17.574161",
     "exception": false,
     "start_time": "2023-04-01T14:19:17.551677",
     "status": "completed"
    },
    "tags": []
   },
   "outputs": [],
   "source": [
    "# replacing null values with the mean of the open column\n",
    "df['Open'] = df['Open'].fillna(df['Open'].mean())"
   ]
  },
  {
   "cell_type": "code",
   "execution_count": 6,
   "id": "616b5f89",
   "metadata": {
    "execution": {
     "iopub.execute_input": "2023-04-01T14:19:17.595020Z",
     "iopub.status.busy": "2023-04-01T14:19:17.594562Z",
     "iopub.status.idle": "2023-04-01T14:19:17.601153Z",
     "shell.execute_reply": "2023-04-01T14:19:17.599928Z"
    },
    "id": "lBxOzUuJ62I0",
    "papermill": {
     "duration": 0.019861,
     "end_time": "2023-04-01T14:19:17.603561",
     "exception": false,
     "start_time": "2023-04-01T14:19:17.583700",
     "status": "completed"
    },
    "tags": []
   },
   "outputs": [],
   "source": [
    "# replacing null values with the mean of the High column\n",
    "df['High'] = df['High'].fillna(df['High'].mean())"
   ]
  },
  {
   "cell_type": "code",
   "execution_count": 7,
   "id": "b87eed97",
   "metadata": {
    "execution": {
     "iopub.execute_input": "2023-04-01T14:19:17.624394Z",
     "iopub.status.busy": "2023-04-01T14:19:17.623960Z",
     "iopub.status.idle": "2023-04-01T14:19:17.630935Z",
     "shell.execute_reply": "2023-04-01T14:19:17.629804Z"
    },
    "id": "KPMBtwCX62uV",
    "papermill": {
     "duration": 0.020049,
     "end_time": "2023-04-01T14:19:17.633204",
     "exception": false,
     "start_time": "2023-04-01T14:19:17.613155",
     "status": "completed"
    },
    "tags": []
   },
   "outputs": [],
   "source": [
    "# replacing null values with the mean of the Low column\n",
    "df['Low'] = df['Low'].fillna(df['Low'].mean())"
   ]
  },
  {
   "cell_type": "code",
   "execution_count": 8,
   "id": "7921c460",
   "metadata": {
    "execution": {
     "iopub.execute_input": "2023-04-01T14:19:17.653668Z",
     "iopub.status.busy": "2023-04-01T14:19:17.653222Z",
     "iopub.status.idle": "2023-04-01T14:19:17.660291Z",
     "shell.execute_reply": "2023-04-01T14:19:17.658884Z"
    },
    "id": "4Xwf_fKw63NC",
    "papermill": {
     "duration": 0.019749,
     "end_time": "2023-04-01T14:19:17.662411",
     "exception": false,
     "start_time": "2023-04-01T14:19:17.642662",
     "status": "completed"
    },
    "tags": []
   },
   "outputs": [],
   "source": [
    "# replacing null values with the mean of the Close column\n",
    "df['Close'] = df['Close'].fillna(df['Close'].mean())"
   ]
  },
  {
   "cell_type": "code",
   "execution_count": 9,
   "id": "34bf745b",
   "metadata": {
    "execution": {
     "iopub.execute_input": "2023-04-01T14:19:17.682976Z",
     "iopub.status.busy": "2023-04-01T14:19:17.682545Z",
     "iopub.status.idle": "2023-04-01T14:19:17.689513Z",
     "shell.execute_reply": "2023-04-01T14:19:17.688373Z"
    },
    "id": "yNxDMsTl63vo",
    "papermill": {
     "duration": 0.019944,
     "end_time": "2023-04-01T14:19:17.691814",
     "exception": false,
     "start_time": "2023-04-01T14:19:17.671870",
     "status": "completed"
    },
    "tags": []
   },
   "outputs": [],
   "source": [
    "# replacing null values with the mean of the AdjClose column\n",
    "df['Adj Close'] = df['Adj Close'].fillna(df['Adj Close'].mean())"
   ]
  },
  {
   "cell_type": "code",
   "execution_count": 10,
   "id": "5e83ab92",
   "metadata": {
    "execution": {
     "iopub.execute_input": "2023-04-01T14:19:17.712451Z",
     "iopub.status.busy": "2023-04-01T14:19:17.712014Z",
     "iopub.status.idle": "2023-04-01T14:19:17.718231Z",
     "shell.execute_reply": "2023-04-01T14:19:17.717035Z"
    },
    "id": "sL0sBlVq64R-",
    "papermill": {
     "duration": 0.01924,
     "end_time": "2023-04-01T14:19:17.720526",
     "exception": false,
     "start_time": "2023-04-01T14:19:17.701286",
     "status": "completed"
    },
    "tags": []
   },
   "outputs": [],
   "source": [
    "# replacing null values with the mean of the Volume column\n",
    "df['Volume'] = df['Volume'].fillna(df['Volume'].mean())"
   ]
  },
  {
   "cell_type": "code",
   "execution_count": 11,
   "id": "a1dfb0d0",
   "metadata": {
    "execution": {
     "iopub.execute_input": "2023-04-01T14:19:17.741207Z",
     "iopub.status.busy": "2023-04-01T14:19:17.740782Z",
     "iopub.status.idle": "2023-04-01T14:19:17.750488Z",
     "shell.execute_reply": "2023-04-01T14:19:17.749429Z"
    },
    "id": "A0RNCvbS7uaB",
    "papermill": {
     "duration": 0.022689,
     "end_time": "2023-04-01T14:19:17.752715",
     "exception": false,
     "start_time": "2023-04-01T14:19:17.730026",
     "status": "completed"
    },
    "tags": []
   },
   "outputs": [
    {
     "data": {
      "text/plain": [
       "Date         0\n",
       "Open         0\n",
       "High         0\n",
       "Low          0\n",
       "Close        0\n",
       "Adj Close    0\n",
       "Volume       0\n",
       "dtype: int64"
      ]
     },
     "execution_count": 11,
     "metadata": {},
     "output_type": "execute_result"
    }
   ],
   "source": [
    "df.isnull().sum()\n",
    "# there is no missing values present in this dataset"
   ]
  },
  {
   "cell_type": "code",
   "execution_count": 12,
   "id": "eab3f24d",
   "metadata": {
    "execution": {
     "iopub.execute_input": "2023-04-01T14:19:17.774394Z",
     "iopub.status.busy": "2023-04-01T14:19:17.773996Z",
     "iopub.status.idle": "2023-04-01T14:19:17.788859Z",
     "shell.execute_reply": "2023-04-01T14:19:17.787726Z"
    },
    "id": "VGPRnag9725q",
    "papermill": {
     "duration": 0.029004,
     "end_time": "2023-04-01T14:19:17.791434",
     "exception": false,
     "start_time": "2023-04-01T14:19:17.762430",
     "status": "completed"
    },
    "tags": []
   },
   "outputs": [
    {
     "data": {
      "text/plain": [
       "0"
      ]
     },
     "execution_count": 12,
     "metadata": {},
     "output_type": "execute_result"
    }
   ],
   "source": [
    "# cheecking whtether it contains duplicates\n",
    "df.duplicated().sum()"
   ]
  },
  {
   "cell_type": "code",
   "execution_count": 13,
   "id": "19ad3757",
   "metadata": {
    "execution": {
     "iopub.execute_input": "2023-04-01T14:19:17.812639Z",
     "iopub.status.busy": "2023-04-01T14:19:17.812253Z",
     "iopub.status.idle": "2023-04-01T14:19:17.816999Z",
     "shell.execute_reply": "2023-04-01T14:19:17.815893Z"
    },
    "id": "0yfbS-3p8C3R",
    "papermill": {
     "duration": 0.018,
     "end_time": "2023-04-01T14:19:17.819119",
     "exception": false,
     "start_time": "2023-04-01T14:19:17.801119",
     "status": "completed"
    },
    "tags": []
   },
   "outputs": [],
   "source": [
    "# our dataset looks cool"
   ]
  },
  {
   "cell_type": "markdown",
   "id": "ee7824dc",
   "metadata": {
    "id": "prrLjGmm8Rpe",
    "papermill": {
     "duration": 0.009346,
     "end_time": "2023-04-01T14:19:17.838050",
     "exception": false,
     "start_time": "2023-04-01T14:19:17.828704",
     "status": "completed"
    },
    "tags": []
   },
   "source": [
    "Data Visualization"
   ]
  },
  {
   "cell_type": "code",
   "execution_count": 14,
   "id": "3fe26fd5",
   "metadata": {
    "execution": {
     "iopub.execute_input": "2023-04-01T14:19:17.859368Z",
     "iopub.status.busy": "2023-04-01T14:19:17.858953Z",
     "iopub.status.idle": "2023-04-01T14:19:17.876747Z",
     "shell.execute_reply": "2023-04-01T14:19:17.875623Z"
    },
    "id": "yH89W5f386W5",
    "papermill": {
     "duration": 0.031015,
     "end_time": "2023-04-01T14:19:17.879124",
     "exception": false,
     "start_time": "2023-04-01T14:19:17.848109",
     "status": "completed"
    },
    "tags": []
   },
   "outputs": [
    {
     "data": {
      "text/html": [
       "<div>\n",
       "<style scoped>\n",
       "    .dataframe tbody tr th:only-of-type {\n",
       "        vertical-align: middle;\n",
       "    }\n",
       "\n",
       "    .dataframe tbody tr th {\n",
       "        vertical-align: top;\n",
       "    }\n",
       "\n",
       "    .dataframe thead th {\n",
       "        text-align: right;\n",
       "    }\n",
       "</style>\n",
       "<table border=\"1\" class=\"dataframe\">\n",
       "  <thead>\n",
       "    <tr style=\"text-align: right;\">\n",
       "      <th></th>\n",
       "      <th>Open</th>\n",
       "      <th>High</th>\n",
       "      <th>Low</th>\n",
       "      <th>Close</th>\n",
       "      <th>Adj Close</th>\n",
       "      <th>Volume</th>\n",
       "    </tr>\n",
       "  </thead>\n",
       "  <tbody>\n",
       "    <tr>\n",
       "      <th>Open</th>\n",
       "      <td>1.000000</td>\n",
       "      <td>0.999893</td>\n",
       "      <td>0.999891</td>\n",
       "      <td>0.999779</td>\n",
       "      <td>0.998755</td>\n",
       "      <td>-0.235007</td>\n",
       "    </tr>\n",
       "    <tr>\n",
       "      <th>High</th>\n",
       "      <td>0.999893</td>\n",
       "      <td>1.000000</td>\n",
       "      <td>0.999877</td>\n",
       "      <td>0.999913</td>\n",
       "      <td>0.998893</td>\n",
       "      <td>-0.232812</td>\n",
       "    </tr>\n",
       "    <tr>\n",
       "      <th>Low</th>\n",
       "      <td>0.999891</td>\n",
       "      <td>0.999877</td>\n",
       "      <td>1.000000</td>\n",
       "      <td>0.999905</td>\n",
       "      <td>0.998864</td>\n",
       "      <td>-0.236762</td>\n",
       "    </tr>\n",
       "    <tr>\n",
       "      <th>Close</th>\n",
       "      <td>0.999779</td>\n",
       "      <td>0.999913</td>\n",
       "      <td>0.999905</td>\n",
       "      <td>1.000000</td>\n",
       "      <td>0.998958</td>\n",
       "      <td>-0.234861</td>\n",
       "    </tr>\n",
       "    <tr>\n",
       "      <th>Adj Close</th>\n",
       "      <td>0.998755</td>\n",
       "      <td>0.998893</td>\n",
       "      <td>0.998864</td>\n",
       "      <td>0.998958</td>\n",
       "      <td>1.000000</td>\n",
       "      <td>-0.221112</td>\n",
       "    </tr>\n",
       "    <tr>\n",
       "      <th>Volume</th>\n",
       "      <td>-0.235007</td>\n",
       "      <td>-0.232812</td>\n",
       "      <td>-0.236762</td>\n",
       "      <td>-0.234861</td>\n",
       "      <td>-0.221112</td>\n",
       "      <td>1.000000</td>\n",
       "    </tr>\n",
       "  </tbody>\n",
       "</table>\n",
       "</div>"
      ],
      "text/plain": [
       "               Open      High       Low     Close  Adj Close    Volume\n",
       "Open       1.000000  0.999893  0.999891  0.999779   0.998755 -0.235007\n",
       "High       0.999893  1.000000  0.999877  0.999913   0.998893 -0.232812\n",
       "Low        0.999891  0.999877  1.000000  0.999905   0.998864 -0.236762\n",
       "Close      0.999779  0.999913  0.999905  1.000000   0.998958 -0.234861\n",
       "Adj Close  0.998755  0.998893  0.998864  0.998958   1.000000 -0.221112\n",
       "Volume    -0.235007 -0.232812 -0.236762 -0.234861  -0.221112  1.000000"
      ]
     },
     "execution_count": 14,
     "metadata": {},
     "output_type": "execute_result"
    }
   ],
   "source": [
    "corr_matrix = df.corr()\n",
    "corr_matrix\n",
    "# this gives the correlation between the variables"
   ]
  },
  {
   "cell_type": "code",
   "execution_count": 15,
   "id": "c59c0f8e",
   "metadata": {
    "execution": {
     "iopub.execute_input": "2023-04-01T14:19:17.901038Z",
     "iopub.status.busy": "2023-04-01T14:19:17.900626Z",
     "iopub.status.idle": "2023-04-01T14:19:19.369407Z",
     "shell.execute_reply": "2023-04-01T14:19:19.368156Z"
    },
    "id": "4yI-suj99-zb",
    "papermill": {
     "duration": 1.482952,
     "end_time": "2023-04-01T14:19:19.372119",
     "exception": false,
     "start_time": "2023-04-01T14:19:17.889167",
     "status": "completed"
    },
    "tags": []
   },
   "outputs": [
    {
     "data": {
      "text/plain": [
       "<AxesSubplot:>"
      ]
     },
     "execution_count": 15,
     "metadata": {},
     "output_type": "execute_result"
    },
    {
     "data": {
      "image/png": "[encoded data removed]",
      "text/plain": [
       "<Figure size 432x288 with 2 Axes>"
      ]
     },
     "metadata": {
      "needs_background": "light"
     },
     "output_type": "display_data"
    }
   ],
   "source": [
    "import seaborn as sns\n",
    "# importing seaborn it is a visualization library\n",
    "sns.heatmap(corr_matrix,cmap='BrBG')"
   ]
  },
  {
   "cell_type": "code",
   "execution_count": 16,
   "id": "dd54c134",
   "metadata": {
    "execution": {
     "iopub.execute_input": "2023-04-01T14:19:19.394654Z",
     "iopub.status.busy": "2023-04-01T14:19:19.394243Z",
     "iopub.status.idle": "2023-04-01T14:19:19.399768Z",
     "shell.execute_reply": "2023-04-01T14:19:19.398476Z"
    },
    "id": "tc7HWSVL_oo1",
    "papermill": {
     "duration": 0.019873,
     "end_time": "2023-04-01T14:19:19.402310",
     "exception": false,
     "start_time": "2023-04-01T14:19:19.382437",
     "status": "completed"
    },
    "tags": []
   },
   "outputs": [],
   "source": [
    "import matplotlib.pyplot as plt"
   ]
  },
  {
   "cell_type": "code",
   "execution_count": 17,
   "id": "f2e3a2e6",
   "metadata": {
    "execution": {
     "iopub.execute_input": "2023-04-01T14:19:19.424662Z",
     "iopub.status.busy": "2023-04-01T14:19:19.424237Z",
     "iopub.status.idle": "2023-04-01T14:19:19.428610Z",
     "shell.execute_reply": "2023-04-01T14:19:19.427741Z"
    },
    "id": "1Jx6oUF9Aw2U",
    "papermill": {
     "duration": 0.018245,
     "end_time": "2023-04-01T14:19:19.430920",
     "exception": false,
     "start_time": "2023-04-01T14:19:19.412675",
     "status": "completed"
    },
    "tags": []
   },
   "outputs": [],
   "source": [
    "# Checking the relation between the input and target variables by data visulaization \n",
    "# our target variable is close price "
   ]
  },
  {
   "cell_type": "code",
   "execution_count": 18,
   "id": "b85d8ad3",
   "metadata": {
    "execution": {
     "iopub.execute_input": "2023-04-01T14:19:19.454147Z",
     "iopub.status.busy": "2023-04-01T14:19:19.453440Z",
     "iopub.status.idle": "2023-04-01T14:19:19.684700Z",
     "shell.execute_reply": "2023-04-01T14:19:19.683666Z"
    },
    "id": "doWxy1dM_b3k",
    "papermill": {
     "duration": 0.245801,
     "end_time": "2023-04-01T14:19:19.687155",
     "exception": false,
     "start_time": "2023-04-01T14:19:19.441354",
     "status": "completed"
    },
    "tags": []
   },
   "outputs": [
    {
     "data": {
      "text/plain": [
       "Text(0.5, 1.0, 'open and Close')"
      ]
     },
     "execution_count": 18,
     "metadata": {},
     "output_type": "execute_result"
    },
    {
     "data": {
      "image/png": "[encoded data removed]",
      "text/plain": [
       "<Figure size 432x288 with 1 Axes>"
      ]
     },
     "metadata": {
      "needs_background": "light"
     },
     "output_type": "display_data"
    }
   ],
   "source": [
    "# Scatter Plot Between Open and Close\n",
    "plt.scatter(df['Open'],df['Close'])\n",
    "plt.xlabel('Open')\n",
    "plt.ylabel('Close')\n",
    "plt.title('open and Close')\n",
    "# open and close are highly correlated"
   ]
  },
  {
   "cell_type": "code",
   "execution_count": 19,
   "id": "1ce21388",
   "metadata": {
    "execution": {
     "iopub.execute_input": "2023-04-01T14:19:19.711611Z",
     "iopub.status.busy": "2023-04-01T14:19:19.710948Z",
     "iopub.status.idle": "2023-04-01T14:19:19.920377Z",
     "shell.execute_reply": "2023-04-01T14:19:19.919288Z"
    },
    "id": "vKKH92iv_4Pr",
    "papermill": {
     "duration": 0.22379,
     "end_time": "2023-04-01T14:19:19.922526",
     "exception": false,
     "start_time": "2023-04-01T14:19:19.698736",
     "status": "completed"
    },
    "tags": []
   },
   "outputs": [
    {
     "data": {
      "text/plain": [
       "Text(0.5, 1.0, 'High and Close')"
      ]
     },
     "execution_count": 19,
     "metadata": {},
     "output_type": "execute_result"
    },
    {
     "data": {
      "image/png": "[encoded data removed]",
      "text/plain": [
       "<Figure size 432x288 with 1 Axes>"
      ]
     },
     "metadata": {
      "needs_background": "light"
     },
     "output_type": "display_data"
    }
   ],
   "source": [
    "# Scatter Plot Between High and Low\n",
    "plt.scatter(df['High'],df['Close'])\n",
    "plt.xlabel('High')\n",
    "plt.ylabel('Close')\n",
    "plt.title('High and Close')\n",
    "# High and close are highly correlated"
   ]
  },
  {
   "cell_type": "code",
   "execution_count": 20,
   "id": "49c8f711",
   "metadata": {
    "execution": {
     "iopub.execute_input": "2023-04-01T14:19:19.945977Z",
     "iopub.status.busy": "2023-04-01T14:19:19.945545Z",
     "iopub.status.idle": "2023-04-01T14:19:20.141060Z",
     "shell.execute_reply": "2023-04-01T14:19:20.140052Z"
    },
    "id": "qyMmKCWbAXwN",
    "papermill": {
     "duration": 0.210359,
     "end_time": "2023-04-01T14:19:20.143854",
     "exception": false,
     "start_time": "2023-04-01T14:19:19.933495",
     "status": "completed"
    },
    "tags": []
   },
   "outputs": [
    {
     "data": {
      "text/plain": [
       "Text(0.5, 1.0, 'Volume and Close')"
      ]
     },
     "execution_count": 20,
     "metadata": {},
     "output_type": "execute_result"
    },
    {
     "data": {
      "image/png": "[encoded data removed]",
      "text/plain": [
       "<Figure size 432x288 with 1 Axes>"
      ]
     },
     "metadata": {
      "needs_background": "light"
     },
     "output_type": "display_data"
    }
   ],
   "source": [
    "# Scatter Plot Between Volume and Low\n",
    "plt.scatter(df['Volume'],df['Close'])\n",
    "plt.xlabel('Volume')\n",
    "plt.ylabel('Close')\n",
    "plt.title('Volume and Close')\n",
    "# Volume and close are not much correlated"
   ]
  },
  {
   "cell_type": "markdown",
   "id": "184f1f6b",
   "metadata": {
    "id": "05uMD41NBt9v",
    "papermill": {
     "duration": 0.011591,
     "end_time": "2023-04-01T14:19:20.167186",
     "exception": false,
     "start_time": "2023-04-01T14:19:20.155595",
     "status": "completed"
    },
    "tags": []
   },
   "source": [
    "Model Making"
   ]
  },
  {
   "cell_type": "code",
   "execution_count": 21,
   "id": "c022d093",
   "metadata": {
    "execution": {
     "iopub.execute_input": "2023-04-01T14:19:20.192705Z",
     "iopub.status.busy": "2023-04-01T14:19:20.192278Z",
     "iopub.status.idle": "2023-04-01T14:19:20.207245Z",
     "shell.execute_reply": "2023-04-01T14:19:20.206146Z"
    },
    "id": "NJ8VzZz9BpNG",
    "papermill": {
     "duration": 0.030236,
     "end_time": "2023-04-01T14:19:20.209460",
     "exception": false,
     "start_time": "2023-04-01T14:19:20.179224",
     "status": "completed"
    },
    "tags": []
   },
   "outputs": [
    {
     "data": {
      "text/html": [
       "<div>\n",
       "<style scoped>\n",
       "    .dataframe tbody tr th:only-of-type {\n",
       "        vertical-align: middle;\n",
       "    }\n",
       "\n",
       "    .dataframe tbody tr th {\n",
       "        vertical-align: top;\n",
       "    }\n",
       "\n",
       "    .dataframe thead th {\n",
       "        text-align: right;\n",
       "    }\n",
       "</style>\n",
       "<table border=\"1\" class=\"dataframe\">\n",
       "  <thead>\n",
       "    <tr style=\"text-align: right;\">\n",
       "      <th></th>\n",
       "      <th>Date</th>\n",
       "      <th>Open</th>\n",
       "      <th>High</th>\n",
       "      <th>Low</th>\n",
       "      <th>Close</th>\n",
       "      <th>Adj Close</th>\n",
       "      <th>Volume</th>\n",
       "    </tr>\n",
       "  </thead>\n",
       "  <tbody>\n",
       "    <tr>\n",
       "      <th>0</th>\n",
       "      <td>2004-08-27</td>\n",
       "      <td>122.800003</td>\n",
       "      <td>122.800003</td>\n",
       "      <td>119.820</td>\n",
       "      <td>120.332497</td>\n",
       "      <td>88.088272</td>\n",
       "      <td>30646000.0</td>\n",
       "    </tr>\n",
       "    <tr>\n",
       "      <th>1</th>\n",
       "      <td>2004-08-30</td>\n",
       "      <td>121.237503</td>\n",
       "      <td>123.750000</td>\n",
       "      <td>120.625</td>\n",
       "      <td>123.345001</td>\n",
       "      <td>90.293549</td>\n",
       "      <td>24465208.0</td>\n",
       "    </tr>\n",
       "  </tbody>\n",
       "</table>\n",
       "</div>"
      ],
      "text/plain": [
       "         Date        Open        High      Low       Close  Adj Close  \\\n",
       "0  2004-08-27  122.800003  122.800003  119.820  120.332497  88.088272   \n",
       "1  2004-08-30  121.237503  123.750000  120.625  123.345001  90.293549   \n",
       "\n",
       "       Volume  \n",
       "0  30646000.0  \n",
       "1  24465208.0  "
      ]
     },
     "execution_count": 21,
     "metadata": {},
     "output_type": "execute_result"
    }
   ],
   "source": [
    "df.head(2)\n",
    "# it returns up to 2 entries"
   ]
  },
  {
   "cell_type": "code",
   "execution_count": 22,
   "id": "68f2e94d",
   "metadata": {
    "execution": {
     "iopub.execute_input": "2023-04-01T14:19:20.234763Z",
     "iopub.status.busy": "2023-04-01T14:19:20.234369Z",
     "iopub.status.idle": "2023-04-01T14:19:20.242576Z",
     "shell.execute_reply": "2023-04-01T14:19:20.241352Z"
    },
    "id": "n_SnhBSkB99N",
    "papermill": {
     "duration": 0.023832,
     "end_time": "2023-04-01T14:19:20.245049",
     "exception": false,
     "start_time": "2023-04-01T14:19:20.221217",
     "status": "completed"
    },
    "tags": []
   },
   "outputs": [],
   "source": [
    "x = df.iloc[:,[1,2,3,6]]\n",
    "y = df.iloc[:,[4]]"
   ]
  },
  {
   "cell_type": "code",
   "execution_count": 23,
   "id": "c9541dd3",
   "metadata": {
    "execution": {
     "iopub.execute_input": "2023-04-01T14:19:20.270172Z",
     "iopub.status.busy": "2023-04-01T14:19:20.269375Z",
     "iopub.status.idle": "2023-04-01T14:19:20.285536Z",
     "shell.execute_reply": "2023-04-01T14:19:20.284030Z"
    },
    "id": "jxnYnokjCQRe",
    "papermill": {
     "duration": 0.031353,
     "end_time": "2023-04-01T14:19:20.288029",
     "exception": false,
     "start_time": "2023-04-01T14:19:20.256676",
     "status": "completed"
    },
    "tags": []
   },
   "outputs": [
    {
     "data": {
      "text/html": [
       "<div>\n",
       "<style scoped>\n",
       "    .dataframe tbody tr th:only-of-type {\n",
       "        vertical-align: middle;\n",
       "    }\n",
       "\n",
       "    .dataframe tbody tr th {\n",
       "        vertical-align: top;\n",
       "    }\n",
       "\n",
       "    .dataframe thead th {\n",
       "        text-align: right;\n",
       "    }\n",
       "</style>\n",
       "<table border=\"1\" class=\"dataframe\">\n",
       "  <thead>\n",
       "    <tr style=\"text-align: right;\">\n",
       "      <th></th>\n",
       "      <th>Open</th>\n",
       "      <th>High</th>\n",
       "      <th>Low</th>\n",
       "      <th>Volume</th>\n",
       "    </tr>\n",
       "  </thead>\n",
       "  <tbody>\n",
       "    <tr>\n",
       "      <th>0</th>\n",
       "      <td>122.800003</td>\n",
       "      <td>122.800003</td>\n",
       "      <td>119.820000</td>\n",
       "      <td>30646000.0</td>\n",
       "    </tr>\n",
       "    <tr>\n",
       "      <th>1</th>\n",
       "      <td>121.237503</td>\n",
       "      <td>123.750000</td>\n",
       "      <td>120.625000</td>\n",
       "      <td>24465208.0</td>\n",
       "    </tr>\n",
       "    <tr>\n",
       "      <th>2</th>\n",
       "      <td>123.312500</td>\n",
       "      <td>123.750000</td>\n",
       "      <td>122.000000</td>\n",
       "      <td>21194656.0</td>\n",
       "    </tr>\n",
       "    <tr>\n",
       "      <th>3</th>\n",
       "      <td>123.750000</td>\n",
       "      <td>124.375000</td>\n",
       "      <td>122.949997</td>\n",
       "      <td>19935544.0</td>\n",
       "    </tr>\n",
       "    <tr>\n",
       "      <th>4</th>\n",
       "      <td>123.737503</td>\n",
       "      <td>125.574997</td>\n",
       "      <td>123.250000</td>\n",
       "      <td>21356352.0</td>\n",
       "    </tr>\n",
       "    <tr>\n",
       "      <th>...</th>\n",
       "      <td>...</td>\n",
       "      <td>...</td>\n",
       "      <td>...</td>\n",
       "      <td>...</td>\n",
       "    </tr>\n",
       "    <tr>\n",
       "      <th>4489</th>\n",
       "      <td>3150.000000</td>\n",
       "      <td>3155.350098</td>\n",
       "      <td>3128.550049</td>\n",
       "      <td>1793722.0</td>\n",
       "    </tr>\n",
       "    <tr>\n",
       "      <th>4490</th>\n",
       "      <td>3159.000000</td>\n",
       "      <td>3159.000000</td>\n",
       "      <td>3112.000000</td>\n",
       "      <td>1194289.0</td>\n",
       "    </tr>\n",
       "    <tr>\n",
       "      <th>4491</th>\n",
       "      <td>3105.000000</td>\n",
       "      <td>3160.000000</td>\n",
       "      <td>3105.000000</td>\n",
       "      <td>1587601.0</td>\n",
       "    </tr>\n",
       "    <tr>\n",
       "      <th>4492</th>\n",
       "      <td>3157.800049</td>\n",
       "      <td>3160.399902</td>\n",
       "      <td>3127.000000</td>\n",
       "      <td>1021913.0</td>\n",
       "    </tr>\n",
       "    <tr>\n",
       "      <th>4493</th>\n",
       "      <td>3170.100098</td>\n",
       "      <td>3178.000000</td>\n",
       "      <td>3155.000000</td>\n",
       "      <td>260949.0</td>\n",
       "    </tr>\n",
       "  </tbody>\n",
       "</table>\n",
       "<p>4494 rows × 4 columns</p>\n",
       "</div>"
      ],
      "text/plain": [
       "             Open         High          Low      Volume\n",
       "0      122.800003   122.800003   119.820000  30646000.0\n",
       "1      121.237503   123.750000   120.625000  24465208.0\n",
       "2      123.312500   123.750000   122.000000  21194656.0\n",
       "3      123.750000   124.375000   122.949997  19935544.0\n",
       "4      123.737503   125.574997   123.250000  21356352.0\n",
       "...           ...          ...          ...         ...\n",
       "4489  3150.000000  3155.350098  3128.550049   1793722.0\n",
       "4490  3159.000000  3159.000000  3112.000000   1194289.0\n",
       "4491  3105.000000  3160.000000  3105.000000   1587601.0\n",
       "4492  3157.800049  3160.399902  3127.000000   1021913.0\n",
       "4493  3170.100098  3178.000000  3155.000000    260949.0\n",
       "\n",
       "[4494 rows x 4 columns]"
      ]
     },
     "execution_count": 23,
     "metadata": {},
     "output_type": "execute_result"
    }
   ],
   "source": [
    "x\n",
    "# our input variables"
   ]
  },
  {
   "cell_type": "code",
   "execution_count": 24,
   "id": "eeba10ed",
   "metadata": {
    "execution": {
     "iopub.execute_input": "2023-04-01T14:19:20.313935Z",
     "iopub.status.busy": "2023-04-01T14:19:20.313491Z",
     "iopub.status.idle": "2023-04-01T14:19:20.326433Z",
     "shell.execute_reply": "2023-04-01T14:19:20.325210Z"
    },
    "id": "sS4SRySrCR6W",
    "papermill": {
     "duration": 0.028385,
     "end_time": "2023-04-01T14:19:20.328798",
     "exception": false,
     "start_time": "2023-04-01T14:19:20.300413",
     "status": "completed"
    },
    "tags": []
   },
   "outputs": [
    {
     "data": {
      "text/html": [
       "<div>\n",
       "<style scoped>\n",
       "    .dataframe tbody tr th:only-of-type {\n",
       "        vertical-align: middle;\n",
       "    }\n",
       "\n",
       "    .dataframe tbody tr th {\n",
       "        vertical-align: top;\n",
       "    }\n",
       "\n",
       "    .dataframe thead th {\n",
       "        text-align: right;\n",
       "    }\n",
       "</style>\n",
       "<table border=\"1\" class=\"dataframe\">\n",
       "  <thead>\n",
       "    <tr style=\"text-align: right;\">\n",
       "      <th></th>\n",
       "      <th>Close</th>\n",
       "    </tr>\n",
       "  </thead>\n",
       "  <tbody>\n",
       "    <tr>\n",
       "      <th>0</th>\n",
       "      <td>120.332497</td>\n",
       "    </tr>\n",
       "    <tr>\n",
       "      <th>1</th>\n",
       "      <td>123.345001</td>\n",
       "    </tr>\n",
       "    <tr>\n",
       "      <th>2</th>\n",
       "      <td>123.512497</td>\n",
       "    </tr>\n",
       "    <tr>\n",
       "      <th>3</th>\n",
       "      <td>123.487503</td>\n",
       "    </tr>\n",
       "    <tr>\n",
       "      <th>4</th>\n",
       "      <td>124.207497</td>\n",
       "    </tr>\n",
       "    <tr>\n",
       "      <th>...</th>\n",
       "      <td>...</td>\n",
       "    </tr>\n",
       "    <tr>\n",
       "      <th>4489</th>\n",
       "      <td>3144.699951</td>\n",
       "    </tr>\n",
       "    <tr>\n",
       "      <th>4490</th>\n",
       "      <td>3121.850098</td>\n",
       "    </tr>\n",
       "    <tr>\n",
       "      <th>4491</th>\n",
       "      <td>3157.300049</td>\n",
       "    </tr>\n",
       "    <tr>\n",
       "      <th>4492</th>\n",
       "      <td>3137.399902</td>\n",
       "    </tr>\n",
       "    <tr>\n",
       "      <th>4493</th>\n",
       "      <td>3161.699951</td>\n",
       "    </tr>\n",
       "  </tbody>\n",
       "</table>\n",
       "<p>4494 rows × 1 columns</p>\n",
       "</div>"
      ],
      "text/plain": [
       "            Close\n",
       "0      120.332497\n",
       "1      123.345001\n",
       "2      123.512497\n",
       "3      123.487503\n",
       "4      124.207497\n",
       "...           ...\n",
       "4489  3144.699951\n",
       "4490  3121.850098\n",
       "4491  3157.300049\n",
       "4492  3137.399902\n",
       "4493  3161.699951\n",
       "\n",
       "[4494 rows x 1 columns]"
      ]
     },
     "execution_count": 24,
     "metadata": {},
     "output_type": "execute_result"
    }
   ],
   "source": [
    "y\n",
    "# Our target Variable"
   ]
  },
  {
   "cell_type": "code",
   "execution_count": 25,
   "id": "23e523e3",
   "metadata": {
    "execution": {
     "iopub.execute_input": "2023-04-01T14:19:20.354681Z",
     "iopub.status.busy": "2023-04-01T14:19:20.354276Z",
     "iopub.status.idle": "2023-04-01T14:19:20.359607Z",
     "shell.execute_reply": "2023-04-01T14:19:20.358181Z"
    },
    "id": "EIbp8mgSCYWJ",
    "papermill": {
     "duration": 0.021079,
     "end_time": "2023-04-01T14:19:20.362080",
     "exception": false,
     "start_time": "2023-04-01T14:19:20.341001",
     "status": "completed"
    },
    "tags": []
   },
   "outputs": [],
   "source": [
    "# Model making using RandomForestRegressor"
   ]
  },
  {
   "cell_type": "code",
   "execution_count": 26,
   "id": "be6d9873",
   "metadata": {
    "execution": {
     "iopub.execute_input": "2023-04-01T14:19:20.387618Z",
     "iopub.status.busy": "2023-04-01T14:19:20.387227Z",
     "iopub.status.idle": "2023-04-01T14:19:20.587548Z",
     "shell.execute_reply": "2023-04-01T14:19:20.586362Z"
    },
    "id": "khqVi5sZCc8q",
    "papermill": {
     "duration": 0.216059,
     "end_time": "2023-04-01T14:19:20.590224",
     "exception": false,
     "start_time": "2023-04-01T14:19:20.374165",
     "status": "completed"
    },
    "tags": []
   },
   "outputs": [],
   "source": [
    "from sklearn.model_selection import train_test_split\n",
    "x_train,x_test,y_train,y_test = train_test_split(x,y)"
   ]
  },
  {
   "cell_type": "code",
   "execution_count": 27,
   "id": "29c992cd",
   "metadata": {
    "execution": {
     "iopub.execute_input": "2023-04-01T14:19:20.616144Z",
     "iopub.status.busy": "2023-04-01T14:19:20.615738Z",
     "iopub.status.idle": "2023-04-01T14:19:20.623533Z",
     "shell.execute_reply": "2023-04-01T14:19:20.622283Z"
    },
    "id": "MgE6YWPlDLO7",
    "papermill": {
     "duration": 0.023328,
     "end_time": "2023-04-01T14:19:20.625803",
     "exception": false,
     "start_time": "2023-04-01T14:19:20.602475",
     "status": "completed"
    },
    "tags": []
   },
   "outputs": [
    {
     "data": {
      "text/plain": [
       "(3370, 4)"
      ]
     },
     "execution_count": 27,
     "metadata": {},
     "output_type": "execute_result"
    }
   ],
   "source": [
    "x_train.shape\n",
    "# to get the shape of the training data"
   ]
  },
  {
   "cell_type": "code",
   "execution_count": 28,
   "id": "d69cabd0",
   "metadata": {
    "execution": {
     "iopub.execute_input": "2023-04-01T14:19:20.652282Z",
     "iopub.status.busy": "2023-04-01T14:19:20.651494Z",
     "iopub.status.idle": "2023-04-01T14:19:20.658767Z",
     "shell.execute_reply": "2023-04-01T14:19:20.657592Z"
    },
    "id": "rhfxGnKuDShw",
    "papermill": {
     "duration": 0.023171,
     "end_time": "2023-04-01T14:19:20.661165",
     "exception": false,
     "start_time": "2023-04-01T14:19:20.637994",
     "status": "completed"
    },
    "tags": []
   },
   "outputs": [
    {
     "data": {
      "text/plain": [
       "(3370, 1)"
      ]
     },
     "execution_count": 28,
     "metadata": {},
     "output_type": "execute_result"
    }
   ],
   "source": [
    "y_train.shape"
   ]
  },
  {
   "cell_type": "code",
   "execution_count": 29,
   "id": "9947fa3b",
   "metadata": {
    "execution": {
     "iopub.execute_input": "2023-04-01T14:19:20.687990Z",
     "iopub.status.busy": "2023-04-01T14:19:20.687547Z",
     "iopub.status.idle": "2023-04-01T14:19:20.694270Z",
     "shell.execute_reply": "2023-04-01T14:19:20.693421Z"
    },
    "id": "1DuNCHoNDYk7",
    "papermill": {
     "duration": 0.022837,
     "end_time": "2023-04-01T14:19:20.696492",
     "exception": false,
     "start_time": "2023-04-01T14:19:20.673655",
     "status": "completed"
    },
    "tags": []
   },
   "outputs": [
    {
     "data": {
      "text/plain": [
       "(1124, 4)"
      ]
     },
     "execution_count": 29,
     "metadata": {},
     "output_type": "execute_result"
    }
   ],
   "source": [
    "x_test.shape"
   ]
  },
  {
   "cell_type": "code",
   "execution_count": 30,
   "id": "39094d38",
   "metadata": {
    "execution": {
     "iopub.execute_input": "2023-04-01T14:19:20.724427Z",
     "iopub.status.busy": "2023-04-01T14:19:20.724020Z",
     "iopub.status.idle": "2023-04-01T14:19:20.731199Z",
     "shell.execute_reply": "2023-04-01T14:19:20.729908Z"
    },
    "id": "E1x0lmv4DatU",
    "papermill": {
     "duration": 0.023973,
     "end_time": "2023-04-01T14:19:20.733470",
     "exception": false,
     "start_time": "2023-04-01T14:19:20.709497",
     "status": "completed"
    },
    "tags": []
   },
   "outputs": [
    {
     "data": {
      "text/plain": [
       "(1124, 1)"
      ]
     },
     "execution_count": 30,
     "metadata": {},
     "output_type": "execute_result"
    }
   ],
   "source": [
    "y_test.shape"
   ]
  },
  {
   "cell_type": "code",
   "execution_count": 31,
   "id": "6bcf85dd",
   "metadata": {
    "execution": {
     "iopub.execute_input": "2023-04-01T14:19:20.760314Z",
     "iopub.status.busy": "2023-04-01T14:19:20.759921Z",
     "iopub.status.idle": "2023-04-01T14:19:20.979379Z",
     "shell.execute_reply": "2023-04-01T14:19:20.978173Z"
    },
    "id": "PF5f4nLiDhYs",
    "papermill": {
     "duration": 0.236308,
     "end_time": "2023-04-01T14:19:20.982189",
     "exception": false,
     "start_time": "2023-04-01T14:19:20.745881",
     "status": "completed"
    },
    "tags": []
   },
   "outputs": [],
   "source": [
    "from sklearn.ensemble import RandomForestRegressor\n",
    "# importing randomforest regressor from ensemble"
   ]
  },
  {
   "cell_type": "code",
   "execution_count": 32,
   "id": "ffdf8f9a",
   "metadata": {
    "execution": {
     "iopub.execute_input": "2023-04-01T14:19:21.008812Z",
     "iopub.status.busy": "2023-04-01T14:19:21.008389Z",
     "iopub.status.idle": "2023-04-01T14:19:22.050903Z",
     "shell.execute_reply": "2023-04-01T14:19:22.049725Z"
    },
    "id": "kLk4F6DpDs-y",
    "papermill": {
     "duration": 1.058977,
     "end_time": "2023-04-01T14:19:22.053618",
     "exception": false,
     "start_time": "2023-04-01T14:19:20.994641",
     "status": "completed"
    },
    "tags": []
   },
   "outputs": [
    {
     "name": "stderr",
     "output_type": "stream",
     "text": [
      "/opt/conda/lib/python3.7/site-packages/ipykernel_launcher.py:2: DataConversionWarning: A column-vector y was passed when a 1d array was expected. Please change the shape of y to (n_samples,), for example using ravel().\n",
      "  \n"
     ]
    }
   ],
   "source": [
    "model = RandomForestRegressor()\n",
    "mymodel = model.fit(x_train,y_train)\n",
    "# training the model"
   ]
  },
  {
   "cell_type": "code",
   "execution_count": 33,
   "id": "c379aed2",
   "metadata": {
    "execution": {
     "iopub.execute_input": "2023-04-01T14:19:22.080972Z",
     "iopub.status.busy": "2023-04-01T14:19:22.080560Z",
     "iopub.status.idle": "2023-04-01T14:19:22.127956Z",
     "shell.execute_reply": "2023-04-01T14:19:22.126891Z"
    },
    "id": "UyYzFErdD6bX",
    "papermill": {
     "duration": 0.064301,
     "end_time": "2023-04-01T14:19:22.130665",
     "exception": false,
     "start_time": "2023-04-01T14:19:22.066364",
     "status": "completed"
    },
    "tags": []
   },
   "outputs": [],
   "source": [
    "pred_y = mymodel.predict(x_test)\n",
    "# testing using testing data"
   ]
  },
  {
   "cell_type": "code",
   "execution_count": 34,
   "id": "d500b7bc",
   "metadata": {
    "execution": {
     "iopub.execute_input": "2023-04-01T14:19:22.158346Z",
     "iopub.status.busy": "2023-04-01T14:19:22.157935Z",
     "iopub.status.idle": "2023-04-01T14:19:22.168113Z",
     "shell.execute_reply": "2023-04-01T14:19:22.166918Z"
    },
    "id": "Fh371F0IEGGi",
    "papermill": {
     "duration": 0.026784,
     "end_time": "2023-04-01T14:19:22.170588",
     "exception": false,
     "start_time": "2023-04-01T14:19:22.143804",
     "status": "completed"
    },
    "tags": []
   },
   "outputs": [
    {
     "data": {
      "text/plain": [
       "0.9998748974234617"
      ]
     },
     "execution_count": 34,
     "metadata": {},
     "output_type": "execute_result"
    }
   ],
   "source": [
    "from sklearn.metrics import r2_score\n",
    "r2_score(pred_y,y_test)\n",
    "# r2_score is used to check the performance of the model"
   ]
  },
  {
   "cell_type": "code",
   "execution_count": 35,
   "id": "03a3e82d",
   "metadata": {
    "execution": {
     "iopub.execute_input": "2023-04-01T14:19:22.199255Z",
     "iopub.status.busy": "2023-04-01T14:19:22.198862Z",
     "iopub.status.idle": "2023-04-01T14:19:22.203904Z",
     "shell.execute_reply": "2023-04-01T14:19:22.202707Z"
    },
    "id": "NnASGzVnEV4Q",
    "papermill": {
     "duration": 0.022442,
     "end_time": "2023-04-01T14:19:22.206143",
     "exception": false,
     "start_time": "2023-04-01T14:19:22.183701",
     "status": "completed"
    },
    "tags": []
   },
   "outputs": [],
   "source": [
    "# Accuracy of our model is 0.9998685435063304"
   ]
  }
 ],
 "metadata": {
  "kernelspec": {
   "display_name": "Python 3",
   "language": "python",
   "name": "python3"
  },
  "language_info": {
   "codemirror_mode": {
    "name": "ipython",
    "version": 3
   },
   "file_extension": ".py",
   "mimetype": "text/x-python",
   "name": "python",
   "nbconvert_exporter": "python",
   "pygments_lexer": "ipython3",
   "version": "3.7.12"
  },
  "papermill": {
   "default_parameters": {},
   "duration": 18.7342,
   "end_time": "2023-04-01T14:19:25.776001",
   "environment_variables": {},
   "exception": null,
   "input_path": "__notebook__.ipynb",
   "output_path": "__notebook__.ipynb",
   "parameters": {},
   "start_time": "2023-04-01T14:19:07.041801",
   "version": "2.3.4"
  }
 },
 "nbformat": 4,
 "nbformat_minor": 5
}
